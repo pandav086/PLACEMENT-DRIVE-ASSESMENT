{
 "cells": [
  {
   "cell_type": "code",
   "execution_count": null,
   "id": "96563322",
   "metadata": {},
   "outputs": [],
   "source": [
    " QUESTION 1:- \n",
    "        \n",
    "Create a function in python to read the text file and replace specific content\n",
    "of the file.\n",
    "\n",
    "\n",
    "File name                        example.txt\n",
    "Origin file content              This is a placement assignment\n",
    "Replace string                   Placement should be replaced by screening.\n",
    "\n",
    "Replaced file content            This is a screening assignment\n"
   ]
  },
  {
   "cell_type": "code",
   "execution_count": null,
   "id": "4f023b9e",
   "metadata": {},
   "outputs": [],
   "source": [
    "\n",
    "ANSWER:-"
   ]
  },
  {
   "cell_type": "code",
   "execution_count": 51,
   "id": "5359502a",
   "metadata": {},
   "outputs": [
    {
     "data": {
      "text/plain": [
       "30"
      ]
     },
     "execution_count": 51,
     "metadata": {},
     "output_type": "execute_result"
    }
   ],
   "source": [
    "f= open('example.txt','w')\n",
    "d = f.write('This is a placement assignment')\n",
    "f= open('example.txt','r')\n",
    "e=f.read()\n",
    "\n",
    "e=e.replace('placement','screening')\n",
    "f.close()\n",
    "\n",
    "f= open('example.txt','w')\n",
    "f.write(e)\n",
    "\n"
   ]
  },
  {
   "cell_type": "code",
   "execution_count": 52,
   "id": "b4c94c70",
   "metadata": {},
   "outputs": [
    {
     "data": {
      "text/plain": [
       "30"
      ]
     },
     "execution_count": 52,
     "metadata": {},
     "output_type": "execute_result"
    }
   ],
   "source": [
    "d"
   ]
  },
  {
   "cell_type": "code",
   "execution_count": 53,
   "id": "da6ac03e",
   "metadata": {},
   "outputs": [
    {
     "data": {
      "text/plain": [
       "'This is a screening assignment'"
      ]
     },
     "execution_count": 53,
     "metadata": {},
     "output_type": "execute_result"
    }
   ],
   "source": [
    "e"
   ]
  },
  {
   "cell_type": "code",
   "execution_count": null,
   "id": "f26fe5d5",
   "metadata": {},
   "outputs": [],
   "source": []
  },
  {
   "cell_type": "code",
   "execution_count": null,
   "id": "dbfba25c",
   "metadata": {},
   "outputs": [],
   "source": []
  },
  {
   "cell_type": "code",
   "execution_count": null,
   "id": "54168aa1",
   "metadata": {},
   "outputs": [],
   "source": [
    "QUESTION 2:-\n",
    "    \n",
    "    Demonstrate use of abstract class, multiple inheritance and decorator in\n",
    "python using examples."
   ]
  },
  {
   "cell_type": "code",
   "execution_count": null,
   "id": "c7da008b",
   "metadata": {},
   "outputs": [],
   "source": [
    "\n"
   ]
  },
  {
   "cell_type": "code",
   "execution_count": null,
   "id": "6551991f",
   "metadata": {},
   "outputs": [],
   "source": [
    "use of abstract class :-\n",
    "    "
   ]
  },
  {
   "cell_type": "code",
   "execution_count": 11,
   "id": "6609ab3b",
   "metadata": {},
   "outputs": [],
   "source": [
    "from abc import abstractmethod\n",
    "\n",
    "class Car:   \n",
    "    def mileage(self):   \n",
    "        pass  \n",
    "  \n",
    " \n",
    "class Tesla(Car):   \n",
    "    def mileage(self):   \n",
    "        print(\"The mileage is 30kmph\")   \n",
    "\n",
    "class Suzuki(Car):   \n",
    "    def mileage(self):   \n",
    "        print(\"The mileage is 25kmph \")   \n",
    "        \n",
    "class Duster(Car):   \n",
    "     def mileage(self):   \n",
    "          print(\"The mileage is 24kmph \")  \n",
    "    \n",
    "class Renault(Car):   \n",
    "    def mileage(self):   \n",
    "            print(\"The mileage is 27kmph \")   \n",
    "          \n"
   ]
  },
  {
   "cell_type": "code",
   "execution_count": 12,
   "id": "0c4827d1",
   "metadata": {},
   "outputs": [
    {
     "name": "stdout",
     "output_type": "stream",
     "text": [
      "The mileage is 30kmph\n",
      "The mileage is 27kmph \n",
      "The mileage is 25kmph \n",
      "The mileage is 24kmph \n"
     ]
    }
   ],
   "source": [
    "   \n",
    "t= Tesla ()\n",
    "t.mileage()   \n",
    "  \n",
    "r = Renault()   \n",
    "r.mileage()   \n",
    "  \n",
    "s = Suzuki()   \n",
    "s.mileage()   \n",
    "d = Duster()   \n",
    "d.mileage()  \n",
    "\n"
   ]
  },
  {
   "cell_type": "code",
   "execution_count": null,
   "id": "1482d67a",
   "metadata": {},
   "outputs": [],
   "source": []
  },
  {
   "cell_type": "code",
   "execution_count": null,
   "id": "5143941c",
   "metadata": {},
   "outputs": [],
   "source": []
  },
  {
   "cell_type": "code",
   "execution_count": null,
   "id": "ed8bad6a",
   "metadata": {},
   "outputs": [],
   "source": [
    "use of  multiple inheritance :-\n",
    "    "
   ]
  },
  {
   "cell_type": "code",
   "execution_count": 15,
   "id": "4bf87de8",
   "metadata": {},
   "outputs": [],
   "source": [
    "class Cal1:  \n",
    "    def Summation(self,a,b):  \n",
    "        return a+b;  \n",
    "    \n",
    "class Cal2:  \n",
    "    def Multiplication(self,a,b):  \n",
    "        return a*b;\n",
    "    \n",
    "class Derived(Cal1,Cal2):  \n",
    "    def Divide(self,a,b):  \n",
    "        return a/b;  "
   ]
  },
  {
   "cell_type": "code",
   "execution_count": 16,
   "id": "a9126262",
   "metadata": {},
   "outputs": [],
   "source": [
    "d = Derived()  "
   ]
  },
  {
   "cell_type": "code",
   "execution_count": 19,
   "id": "6d84ea08",
   "metadata": {},
   "outputs": [
    {
     "data": {
      "text/plain": [
       "7"
      ]
     },
     "execution_count": 19,
     "metadata": {},
     "output_type": "execute_result"
    }
   ],
   "source": [
    "d.Summation(3,4)"
   ]
  },
  {
   "cell_type": "code",
   "execution_count": 20,
   "id": "e3363ca5",
   "metadata": {},
   "outputs": [
    {
     "data": {
      "text/plain": [
       "20"
      ]
     },
     "execution_count": 20,
     "metadata": {},
     "output_type": "execute_result"
    }
   ],
   "source": [
    "d.Multiplication(4,5)"
   ]
  },
  {
   "cell_type": "code",
   "execution_count": 21,
   "id": "49a63885",
   "metadata": {},
   "outputs": [
    {
     "data": {
      "text/plain": [
       "2.5"
      ]
     },
     "execution_count": 21,
     "metadata": {},
     "output_type": "execute_result"
    }
   ],
   "source": [
    "d.Divide(10,4)"
   ]
  },
  {
   "cell_type": "code",
   "execution_count": null,
   "id": "2714f170",
   "metadata": {},
   "outputs": [],
   "source": []
  },
  {
   "cell_type": "code",
   "execution_count": null,
   "id": "9b9b33d8",
   "metadata": {},
   "outputs": [],
   "source": []
  },
  {
   "cell_type": "code",
   "execution_count": null,
   "id": "edcbb490",
   "metadata": {},
   "outputs": [],
   "source": [
    " decorator in\n",
    "python using examples:-\n",
    "    \n",
    "    "
   ]
  },
  {
   "cell_type": "code",
   "execution_count": 23,
   "id": "a761f695",
   "metadata": {},
   "outputs": [
    {
     "name": "stdout",
     "output_type": "stream",
     "text": [
      "Hello, this is before function execution\n",
      "This is inside the function !!\n",
      "This is after function execution\n"
     ]
    }
   ],
   "source": [
    "# defining a decorator\n",
    "def hello_decorator(func):\n",
    " \n",
    "    def inner1():\n",
    "        print(\"Hello, this is before function execution\")\n",
    " \n",
    "    \n",
    "        func()\n",
    " \n",
    "        print(\"This is after function execution\")\n",
    "         \n",
    "    return inner1\n",
    " \n",
    "    \n",
    "def function_to_be_used():\n",
    "    print(\"This is inside the function !!\")\n",
    " \n",
    " \n",
    "function_to_be_used = hello_decorator(function_to_be_used)\n",
    " \n",
    "function_to_be_used()\n"
   ]
  },
  {
   "cell_type": "code",
   "execution_count": null,
   "id": "3a09c852",
   "metadata": {},
   "outputs": [],
   "source": []
  },
  {
   "cell_type": "code",
   "execution_count": null,
   "id": "fb2fe6c1",
   "metadata": {},
   "outputs": [],
   "source": []
  }
 ],
 "metadata": {
  "kernelspec": {
   "display_name": "Python 3 (ipykernel)",
   "language": "python",
   "name": "python3"
  },
  "language_info": {
   "codemirror_mode": {
    "name": "ipython",
    "version": 3
   },
   "file_extension": ".py",
   "mimetype": "text/x-python",
   "name": "python",
   "nbconvert_exporter": "python",
   "pygments_lexer": "ipython3",
   "version": "3.9.7"
  }
 },
 "nbformat": 4,
 "nbformat_minor": 5
}
